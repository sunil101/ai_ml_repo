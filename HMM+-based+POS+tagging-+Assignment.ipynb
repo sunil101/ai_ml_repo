{
 "cells": [
  {
   "cell_type": "markdown",
   "metadata": {},
   "source": [
    "## POS tagging using modified Viterbi"
   ]
  },
  {
   "cell_type": "markdown",
   "metadata": {},
   "source": [
    "### Data Preparation"
   ]
  },
  {
   "cell_type": "code",
   "execution_count": 1,
   "metadata": {},
   "outputs": [],
   "source": [
    "#Importing libraries\n",
    "import nltk, re, pprint\n",
    "import numpy as np\n",
    "import pandas as pd\n",
    "import requests\n",
    "import matplotlib.pyplot as plt\n",
    "import seaborn as sns\n",
    "import pprint, time\n",
    "import random\n",
    "from sklearn.model_selection import train_test_split\n",
    "from nltk.tokenize import word_tokenize"
   ]
  },
  {
   "cell_type": "code",
   "execution_count": 2,
   "metadata": {},
   "outputs": [],
   "source": [
    "# reading the Treebank tagged sentences\n",
    "nltk_data = list(nltk.corpus.treebank.tagged_sents(tagset='universal'))"
   ]
  },
  {
   "cell_type": "code",
   "execution_count": 3,
   "metadata": {},
   "outputs": [
    {
     "name": "stdout",
     "output_type": "stream",
     "text": [
      "3718\n",
      "196\n",
      "[[('The', 'DET'), ('Old', 'NOUN'), ('Guard', 'NOUN'), (\"'s\", 'PRT'), ('assault', 'NOUN'), ('on', 'ADP'), ('program', 'NOUN'), ('trading', 'NOUN'), ('and', 'CONJ'), ('its', 'PRON'), ('practitioners', 'NOUN'), ('has', 'VERB'), ('been', 'VERB'), ('fierce', 'ADJ'), ('and', 'CONJ'), ('broad-based', 'ADJ'), (',', '.'), ('in', 'ADP'), ('part', 'NOUN'), ('because', 'ADP'), ('some', 'DET'), ('Old', 'NOUN'), ('Guard', 'NOUN'), ('members', 'NOUN'), ('feel', 'VERB'), ('0', 'X'), ('their', 'PRON'), ('very', 'ADJ'), ('livelihood', 'NOUN'), ('is', 'VERB'), ('at', 'ADP'), ('stake', 'NOUN'), ('.', '.')], [('``', '.'), ('So', 'ADP'), ('the', 'DET'), ('focus', 'NOUN'), ('turned', 'VERB'), ('to', 'PRT'), ('other', 'ADJ'), ('fixed-income', 'ADJ'), ('markets', 'NOUN'), (',', '.'), ('corporate', 'ADJ'), ('and', 'CONJ'), ('mortgages', 'NOUN'), ('in', 'ADP'), ('particular', 'ADJ'), (',', '.'), (\"''\", '.'), ('she', 'PRON'), ('said', 'VERB'), ('*T*-1', 'X'), ('.', '.')], [('The', 'DET'), ('Bush', 'NOUN'), ('administration', 'NOUN'), ('has', 'VERB'), ('threatened', 'VERB'), ('*-1', 'X'), ('to', 'PRT'), ('veto', 'VERB'), ('such', 'DET'), ('a', 'DET'), ('bill', 'NOUN'), ('because', 'ADP'), ('of', 'ADP'), ('what', 'PRON'), ('it', 'PRON'), ('views', 'VERB'), ('*T*-2', 'X'), ('as', 'ADP'), ('an', 'DET'), ('undesirable', 'ADJ'), ('intrusion', 'NOUN'), ('into', 'ADP'), ('the', 'DET'), ('affairs', 'NOUN'), ('of', 'ADP'), ('industry', 'NOUN'), (',', '.'), ('but', 'CONJ'), ('the', 'DET'), ('300-113', 'NUM'), ('vote', 'NOUN'), ('suggests', 'VERB'), ('that', 'ADP'), ('supporters', 'NOUN'), ('have', 'VERB'), ('the', 'DET'), ('potential', 'NOUN'), ('0', 'X'), ('*', 'X'), ('to', 'PRT'), ('override', 'VERB'), ('a', 'DET'), ('veto', 'NOUN'), ('*T*-3', 'X'), ('.', '.')], [('Why', 'ADV'), ('are', 'VERB'), ('we', 'PRON'), ('blacks', 'NOUN'), ('continually', 'ADV'), ('defined', 'VERB'), ('*-1', 'X'), ('by', 'ADP'), ('our', 'PRON'), ('minority', 'NOUN'), ('and', 'CONJ'), ('the', 'DET'), ('lowest', 'ADJ'), ('common', 'ADJ'), ('denominator', 'NOUN'), ('.', '.')], [('Svenska', 'NOUN'), ('Intecknings', 'NOUN'), ('Garanti', 'NOUN'), ('Aktiebolaget', 'NOUN'), ('-LRB-', '.'), ('Sweden', 'NOUN'), ('-RRB-', '.'), ('--', '.')], [('That', 'DET'), (\"'s\", 'VERB'), ('not', 'ADV'), ('*', 'X'), ('to', 'PRT'), ('say', 'VERB'), ('that', 'ADP'), ('the', 'DET'), ('nutty', 'ADJ'), ('plot', 'NOUN'), ('of', 'ADP'), ('``', '.'), ('A', 'DET'), ('Wild', 'NOUN'), ('Sheep', 'NOUN'), ('Chase', 'NOUN'), (\"''\", '.'), ('is', 'VERB'), ('rooted', 'VERB'), ('*-57', 'X'), ('in', 'ADP'), ('reality', 'NOUN'), ('.', '.')], [('DD', 'NOUN'), ('Acquisition', 'NOUN'), ('Corp.', 'NOUN'), (',', '.'), ('a', 'DET'), ('partnership', 'NOUN'), ('of', 'ADP'), ('Unicorp', 'NOUN'), ('Canada', 'NOUN'), ('Corp.', 'NOUN'), (\"'s\", 'PRT'), ('Kingsbridge', 'NOUN'), ('Capital', 'NOUN'), ('Group', 'NOUN'), ('and', 'CONJ'), ('Cara', 'NOUN'), ('Operations', 'NOUN'), ('Ltd.', 'NOUN'), (',', '.'), ('extended', 'VERB'), ('to', 'PRT'), ('Nov.', 'NOUN'), ('20', 'NUM'), ('its', 'PRON'), ('$', '.'), ('45-a-share', 'ADJ'), ('offer', 'NOUN'), ('for', 'ADP'), ('all', 'DET'), (\"Dunkin'\", 'NOUN'), ('Donuts', 'NOUN'), ('Inc.', 'NOUN'), ('shares', 'NOUN'), ('outstanding', 'ADJ'), ('.', '.')], [('Economic', 'ADJ'), ('news', 'NOUN'), ('had', 'VERB'), ('little', 'ADJ'), ('effect', 'NOUN'), ('on', 'ADP'), ('financial', 'ADJ'), ('markets', 'NOUN'), ('.', '.')], [('*-1', 'X'), ('Taking', 'VERB'), ('over', 'PRT'), ('as', 'ADV'), ('chief', 'NOUN'), ('executive', 'ADJ'), ('officer', 'NOUN'), ('in', 'ADP'), ('1983', 'NUM'), (',', '.'), ('he', 'PRON'), ('inherited', 'VERB'), ('a', 'DET'), ('company', 'NOUN'), ('that', 'DET'), ('*T*-6', 'X'), ('was', 'VERB'), ('mired', 'VERB'), ('*-2', 'X'), ('in', 'ADP'), ('debt', 'NOUN'), ('and', 'CONJ'), ('hurt', 'VERB'), ('*-2', 'X'), ('by', 'ADP'), ('a', 'DET'), ('recession-inspired', 'ADJ'), ('slide', 'NOUN'), ('in', 'ADP'), ('its', 'PRON'), ('building-products', 'NOUN'), ('business', 'NOUN'), ('.', '.')], [('``', '.'), ('He', 'PRON'), ('has', 'VERB'), ('clamped', 'VERB'), ('on', 'ADP'), ('their', 'PRON'), ('ankle', 'NOUN'), ('like', 'ADP'), ('a', 'DET'), ('pit', 'NOUN'), ('bull', 'NOUN'), (',', '.'), (\"''\", '.'), ('says', 'VERB'), ('*T*-1', 'X'), ('Paul', 'NOUN'), ('Leming', 'NOUN'), (',', '.'), ('a', 'DET'), ('vice', 'NOUN'), ('president', 'NOUN'), ('with', 'ADP'), ('Morgan', 'NOUN'), ('Stanley', 'NOUN'), ('&', 'CONJ'), ('Co', 'NOUN'), ('.', '.')], [('*', 'X'), ('Getting', 'VERB'), ('a', 'DET'), ('level', 'NOUN'), ('playing', 'NOUN'), ('field', 'NOUN'), ('.', '.')], [('Yet', 'CONJ'), ('our', 'PRON'), ('efforts', 'NOUN'), ('are', 'VERB'), ('somehow', 'ADV'), ('less', 'ADV'), ('noble', 'ADJ'), ('than', 'ADP'), ('those', 'DET'), ('of', 'ADP'), ('an', 'DET'), ('investment', 'NOUN'), ('expert', 'NOUN'), ('studiously', 'ADV'), ('devouring', 'VERB'), ('press', 'NOUN'), ('clippings', 'NOUN'), ('on', 'ADP'), ('each', 'DET'), ('company', 'NOUN'), ('0', 'X'), ('he', 'PRON'), ('follows', 'VERB'), ('*T*-1', 'X'), ('.', '.')], [('For', 'ADP'), ('starters', 'NOUN'), (',', '.'), ('the', 'DET'), ('executives', 'NOUN'), ('joined', 'VERB'), ('Mayor', 'NOUN'), ('William', 'NOUN'), ('H.', 'NOUN'), ('Hudnut', 'NOUN'), ('III', 'NOUN'), ('for', 'ADP'), ('an', 'DET'), ('evening', 'NOUN'), ('of', 'ADP'), ('the', 'DET'), ('Indianapolis', 'NOUN'), ('Symphony', 'NOUN'), ('Orchestra', 'NOUN'), ('and', 'CONJ'), ('a', 'DET'), ('guest', 'NOUN'), ('pianist-comedian', 'NOUN'), ('Victor', 'NOUN'), ('Borge', 'NOUN'), ('.', '.')], [('But', 'CONJ'), ('in', 'ADP'), ('August', 'NOUN'), (',', '.'), ('First', 'ADJ'), ('Atlanta', 'NOUN'), ('National', 'NOUN'), ('Bank', 'NOUN'), ('introduced', 'VERB'), ('its', 'PRON'), ('Crown', 'NOUN'), ('Account', 'NOUN'), (',', '.'), ('a', 'DET'), ('package', 'NOUN'), ('designed', 'VERB'), ('*', 'X'), ('*-1', 'X'), ('to', 'PRT'), ('lure', 'VERB'), ('customers', 'NOUN'), ('such', 'ADJ'), ('as', 'ADP'), ('Ms.', 'NOUN'), ('Driskill', 'NOUN'), ('.', '.')], [('You', 'PRON'), ('do', 'VERB'), (\"n't\", 'ADV'), ('want', 'VERB'), ('*-1', 'X'), ('to', 'PRT'), ('get', 'VERB'), ('yourself', 'PRON'), ('too', 'ADV'), ('upset', 'ADJ'), ('about', 'ADP'), ('these', 'DET'), ('things', 'NOUN'), ('.', '.')], [('*', 'X'), ('Eliminate', 'VERB'), ('arbitrage', 'NOUN'), ('and', 'CONJ'), ('liquidity', 'NOUN'), ('will', 'VERB'), ('decline', 'VERB'), ('instead', 'ADV'), ('of', 'ADP'), ('*', 'X'), ('rising', 'VERB'), (',', '.'), ('*', 'X'), ('creating', 'VERB'), ('more', 'ADJ'), ('volatility', 'NOUN'), ('instead', 'ADV'), ('of', 'ADP'), ('less', 'ADJ'), ('.', '.')], [('The', 'DET'), ('Chicago', 'NOUN'), ('Mercantile', 'NOUN'), ('Exchange', 'NOUN'), (',', '.'), ('a', 'DET'), ('major', 'ADJ'), ('futures', 'NOUN'), ('marketplace', 'NOUN'), (',', '.'), ('yesterday', 'NOUN'), ('announced', 'VERB'), ('the', 'DET'), ('addition', 'NOUN'), ('of', 'ADP'), ('another', 'DET'), ('layer', 'NOUN'), ('of', 'ADP'), ('trading', 'NOUN'), ('halts', 'NOUN'), ('designed', 'VERB'), ('*', 'X'), ('to', 'PRT'), ('slow', 'VERB'), ('program', 'NOUN'), ('traders', 'NOUN'), ('during', 'ADP'), ('a', 'DET'), ('rapidly', 'ADV'), ('falling', 'VERB'), ('stock', 'NOUN'), ('market', 'NOUN'), (',', '.'), ('and', 'CONJ'), ('the', 'DET'), ('Big', 'NOUN'), ('Board', 'NOUN'), ('is', 'VERB'), ('expected', 'VERB'), ('today', 'NOUN'), ('*-70', 'X'), ('to', 'PRT'), ('approve', 'VERB'), ('some', 'DET'), ('additional', 'ADJ'), ('restrictions', 'NOUN'), ('on', 'ADP'), ('program', 'NOUN'), ('trading', 'NOUN'), ('.', '.')], [('``', '.'), ('Now', 'ADV'), ('the', 'DET'), ('field', 'NOUN'), ('is', 'VERB'), ('less', 'ADV'), ('cluttered', 'VERB'), (',', '.'), (\"''\", '.'), ('he', 'PRON'), ('added', 'VERB'), ('*T*-1', 'X'), ('.', '.')], [('With', 'ADP'), ('the', 'DET'), ('1985', 'NUM'), ('vintage', 'NOUN'), (',', '.'), ('they', 'PRON'), ('soared', 'VERB'), ('higher', 'ADV'), (':', '.'), ('La', 'NOUN'), ('Tache', 'NOUN'), (',', '.'), ('$', '.'), ('195', 'NUM'), ('*U*', 'X'), (';', '.'), ('Richebourg', 'NOUN'), (',', '.'), ('$', '.'), ('180', 'NUM'), ('*U*', 'X'), (';', '.'), ('Romanee-Conti', 'NOUN'), (',', '.'), ('$', '.'), ('225', 'NUM'), ('*U*', 'X'), ('.', '.')], [('*-1', 'X'), ('Observing', 'VERB'), ('that', 'ADP'), ('the', 'DET'), ('judge', 'NOUN'), ('``', '.'), ('has', 'VERB'), ('never', 'ADV'), ('exhibited', 'VERB'), ('any', 'DET'), ('bias', 'NOUN'), ('or', 'CONJ'), ('prejudice', 'NOUN'), (',', '.'), (\"''\", '.'), ('Mr.', 'NOUN'), ('Murray', 'NOUN'), ('concluded', 'VERB'), ('that', 'ADP'), ('he', 'PRON'), ('``', '.'), ('would', 'VERB'), ('be', 'VERB'), ('impartial', 'ADJ'), ('in', 'ADP'), ('any', 'DET'), ('case', 'NOUN'), ('involving', 'VERB'), ('a', 'DET'), ('homosexual', 'NOUN'), ('or', 'CONJ'), ('prostitute', 'NOUN'), (\"''\", '.'), ('as', 'ADP'), ('a', 'DET'), ('victim', 'NOUN'), ('.', '.')], [('Then', 'ADV'), (',', '.'), ('just', 'ADV'), ('as', 'ADP'), ('an', 'DET'), ('image', 'NOUN'), ('of', 'ADP'), ('the', 'DET'), ('statue', 'NOUN'), ('of', 'ADP'), ('Thomas', 'NOUN'), ('Jefferson', 'NOUN'), ('dissolves', 'VERB'), ('from', 'ADP'), ('the', 'DET'), ('screen', 'NOUN'), (',', '.'), ('the', 'DET'), ('announcer', 'NOUN'), ('continues', 'VERB'), (':', '.'), ('``', '.'), ('On', 'ADP'), ('the', 'DET'), ('issue', 'NOUN'), ('of', 'ADP'), ('abortion', 'NOUN'), (',', '.'), ('Marshall', 'NOUN'), ('Coleman', 'NOUN'), ('wants', 'VERB'), ('*-1', 'X'), ('to', 'PRT'), ('take', 'VERB'), ('away', 'PRT'), ('your', 'PRON'), ('right', 'NOUN'), ('*', 'X'), ('to', 'PRT'), ('choose', 'VERB'), ('and', 'CONJ'), ('*-1', 'X'), ('give', 'VERB'), ('it', 'PRON'), ('to', 'PRT'), ('the', 'DET'), ('politicians', 'NOUN'), ('.', '.'), (\"''\", '.')], [('The', 'DET'), ('department', 'NOUN'), ('would', 'VERB'), ('be', 'VERB'), ('required', 'VERB'), ('*-1', 'X'), ('to', 'PRT'), ('block', 'VERB'), ('the', 'DET'), ('buy-out', 'NOUN'), ('if', 'ADP'), ('the', 'DET'), ('acquisition', 'NOUN'), ('is', 'VERB'), ('likely', 'ADJ'), ('*-2', 'X'), ('to', 'PRT'), ('financially', 'ADV'), ('weaken', 'VERB'), ('a', 'DET'), ('carrier', 'NOUN'), ('so', 'ADP'), ('that', 'ADP'), ('safety', 'NOUN'), ('would', 'VERB'), ('be', 'VERB'), ('impaired', 'VERB'), ('*-27', 'X'), (';', '.'), ('its', 'PRON'), ('ability', 'NOUN'), ('*', 'X'), ('to', 'PRT'), ('compete', 'VERB'), ('would', 'VERB'), ('be', 'VERB'), ('sharply', 'ADV'), ('diminished', 'VERB'), ('*-3', 'X'), (';', '.'), ('it', 'PRON'), ('would', 'VERB'), ('be', 'VERB'), ('put', 'VERB'), ('*-28', 'X'), ('into', 'ADP'), ('foreign', 'ADJ'), ('control', 'NOUN'), (';', '.'), ('or', 'CONJ'), ('if', 'ADP'), ('the', 'DET'), ('transaction', 'NOUN'), ('would', 'VERB'), ('result', 'VERB'), ('in', 'ADP'), ('the', 'DET'), ('sale', 'NOUN'), ('of', 'ADP'), ('airline-related', 'ADJ'), ('assets', 'NOUN'), ('--', '.'), ('unless', 'ADP'), ('*', 'X'), ('selling', 'VERB'), ('such', 'ADJ'), ('assets', 'NOUN'), ('had', 'VERB'), ('an', 'DET'), ('overriding', 'VERB'), ('public', 'NOUN'), ('benefit', 'NOUN'), ('.', '.')], [('Sales', 'NOUN'), ('in', 'ADP'), ('stores', 'NOUN'), ('open', 'ADJ'), ('more', 'ADJ'), ('than', 'ADP'), ('one', 'NUM'), ('year', 'NOUN'), ('rose', 'VERB'), ('3', 'NUM'), ('%', 'NOUN'), ('to', 'PRT'), ('$', '.'), ('29.3', 'NUM'), ('million', 'NUM'), ('*U*', 'X'), ('from', 'ADP'), ('$', '.'), ('28.4', 'NUM'), ('million', 'NUM'), ('*U*', 'X'), ('.', '.')], [('Nissan', 'NOUN'), ('Motor', 'NOUN'), ('Co.', 'NOUN'), (',', '.'), ('Japan', 'NOUN'), (\"'s\", 'PRT'), ('second-largest', 'ADJ'), ('car', 'NOUN'), ('maker', 'NOUN'), (',', '.'), ('announced', 'VERB'), ('Wednesday', 'NOUN'), ('that', 'ADP'), ('the', 'DET'), ('parent', 'NOUN'), ('concern', 'NOUN'), (\"'s\", 'PRT'), ('pretax', 'NOUN'), ('earnings', 'NOUN'), ('in', 'ADP'), ('the', 'DET'), ('first', 'ADJ'), ('half', 'DET'), ('ended', 'VERB'), ('last', 'ADJ'), ('Sept.', 'NOUN'), ('30', 'NUM'), ('rose', 'VERB'), ('14', 'NUM'), ('%', 'NOUN'), ('to', 'PRT'), ('88.32', 'NUM'), ('billion', 'NUM'), ('yen', 'NOUN'), ('-LRB-', '.'), ('$', '.'), ('618.1', 'NUM'), ('million', 'NUM'), ('*U*', 'X'), ('-RRB-', '.'), ('from', 'ADP'), ('77.6', 'NUM'), ('billion', 'NUM'), ('yen', 'NOUN'), ('a', 'DET'), ('year', 'NOUN'), ('earlier', 'ADJ'), ('.', '.')], [('The', 'DET'), ('report', 'NOUN'), ('offered', 'VERB'), ('new', 'ADJ'), ('evidence', 'NOUN'), ('that', 'ADP'), ('the', 'DET'), ('nation', 'NOUN'), (\"'s\", 'PRT'), ('export', 'NOUN'), ('growth', 'NOUN'), (',', '.'), ('though', 'ADP'), ('*-1', 'X'), ('still', 'ADV'), ('continuing', 'VERB'), (',', '.'), ('may', 'VERB'), ('be', 'VERB'), ('slowing', 'VERB'), ('.', '.')], [('Defending', 'VERB'), ('their', 'PRON'), ('ramparts', 'NOUN'), ('are', 'VERB'), ('*T*-1', 'X'), ('Wall', 'NOUN'), ('Street', 'NOUN'), (\"'s\", 'PRT'), ('Old', 'NOUN'), ('Guard', 'NOUN'), ('--', '.'), ('the', 'DET'), ('traditional', 'ADJ'), (',', '.'), ('stock-picking', 'ADJ'), ('money', 'NOUN'), ('managers', 'NOUN'), (',', '.'), ('tens', 'NOUN'), ('of', 'ADP'), ('thousands', 'NOUN'), ('of', 'ADP'), ('stock', 'NOUN'), ('brokers', 'NOUN'), (',', '.'), ('the', 'DET'), ('New', 'NOUN'), ('York', 'NOUN'), ('Stock', 'NOUN'), ('Exchange', 'NOUN'), (\"'s\", 'PRT'), ('listed', 'VERB'), ('companies', 'NOUN'), ('and', 'CONJ'), ('the', 'DET'), ('clannish', 'ADJ'), ('floor', 'NOUN'), ('traders', 'NOUN'), (',', '.'), ('known', 'VERB'), ('*', 'X'), ('as', 'ADP'), ('specialists', 'NOUN'), (',', '.'), ('who', 'PRON'), ('*T*-65', 'X'), ('make', 'VERB'), ('markets', 'NOUN'), ('in', 'ADP'), ('their', 'PRON'), ('stocks', 'NOUN'), ('.', '.')], [('Rudolph', 'NOUN'), ('Agnew', 'NOUN'), (',', '.'), ('55', 'NUM'), ('years', 'NOUN'), ('old', 'ADJ'), ('and', 'CONJ'), ('former', 'ADJ'), ('chairman', 'NOUN'), ('of', 'ADP'), ('Consolidated', 'NOUN'), ('Gold', 'NOUN'), ('Fields', 'NOUN'), ('PLC', 'NOUN'), (',', '.'), ('was', 'VERB'), ('named', 'VERB'), ('*-1', 'X'), ('a', 'DET'), ('nonexecutive', 'ADJ'), ('director', 'NOUN'), ('of', 'ADP'), ('this', 'DET'), ('British', 'ADJ'), ('industrial', 'ADJ'), ('conglomerate', 'NOUN'), ('.', '.')], [('60', 'NUM'), ('million', 'NUM'), ('Swiss', 'ADJ'), ('francs', 'NOUN'), ('of', 'ADP'), ('privately', 'ADV'), ('placed', 'VERB'), ('convertible', 'ADJ'), ('notes', 'NOUN'), ('due', 'ADJ'), ('Dec.', 'NOUN'), ('31', 'NUM'), (',', '.'), ('1993', 'NUM'), (',', '.'), ('with', 'ADP'), ('a', 'DET'), ('fixed', 'VERB'), ('0.25', 'NUM'), ('%', 'NOUN'), ('coupon', 'NOUN'), ('at', 'ADP'), ('par', 'NOUN'), ('via', 'ADP'), ('Union', 'NOUN'), ('Bank', 'NOUN'), ('of', 'ADP'), ('Switzerland', 'NOUN'), ('.', '.')], [('But', 'CONJ'), ('the', 'DET'), ('Big', 'NOUN'), ('Board', 'NOUN'), (\"'s\", 'PRT'), ('leadership', 'NOUN'), ('--', '.'), ('over', 'ADP'), ('the', 'DET'), ('specialists', 'NOUN'), (\"'\", 'PRT'), ('protests', 'NOUN'), ('--', '.'), ('two', 'NUM'), ('weeks', 'NOUN'), ('ago', 'ADP'), ('began', 'VERB'), ('*-1', 'X'), ('trading', 'NOUN'), ('a', 'DET'), ('new', 'ADJ'), ('stock', 'NOUN'), ('``', '.'), ('basket', 'NOUN'), (\"''\", '.'), ('product', 'NOUN'), ('designed', 'VERB'), ('*', 'X'), ('to', 'PRT'), ('facilitate', 'VERB'), ('program', 'NOUN'), ('trading', 'NOUN'), ('.', '.')], [('Like', 'ADP'), ('most', 'ADJ'), ('of', 'ADP'), ('the', 'DET'), ('other', 'ADJ'), ('6,000', 'NUM'), ('churches', 'NOUN'), ('in', 'ADP'), ('Britain', 'NOUN'), ('with', 'ADP'), ('sets', 'NOUN'), ('of', 'ADP'), ('bells', 'NOUN'), (',', '.'), ('St.', 'NOUN'), ('Michael', 'NOUN'), ('once', 'ADV'), ('had', 'VERB'), ('its', 'PRON'), ('own', 'ADJ'), ('``', '.'), ('band', 'NOUN'), (\"''\", '.'), ('of', 'ADP'), ('ringers', 'NOUN'), (',', '.'), ('who', 'PRON'), ('*T*-221', 'X'), ('would', 'VERB'), ('herald', 'VERB'), ('every', 'DET'), ('Sunday', 'NOUN'), ('morning', 'NOUN'), ('and', 'CONJ'), ('evening', 'NOUN'), ('service', 'NOUN'), ('.', '.')], [('Steve', 'NOUN'), ('Martin', 'NOUN'), ('has', 'VERB'), ('already', 'ADV'), ('laid', 'VERB'), ('his', 'PRON'), ('claim', 'NOUN'), ('to', 'PRT'), ('that', 'DET'), ('.', '.')], [('On', 'ADP'), ('London', 'NOUN'), (\"'s\", 'PRT'), ('Stock', 'NOUN'), ('Exchange', 'NOUN'), (',', '.'), ('Reuters', 'NOUN'), ('shares', 'NOUN'), ('rose', 'VERB'), ('five', 'NUM'), ('pence', 'NOUN'), ('to', 'PRT'), ('913', 'NUM'), ('pence', 'NOUN'), ('-LRB-', '.'), ('$', '.'), ('14.43', 'NUM'), ('*U*', 'X'), ('-RRB-', '.'), ('.', '.')], [('In', 'ADP'), ('addition', 'NOUN'), (',', '.'), ('a', 'DET'), ('big', 'ADJ'), ('loan', 'NOUN'), ('that', 'ADP'), ('First', 'NOUN'), ('Boston', 'NOUN'), ('made', 'VERB'), ('*T*-2', 'X'), ('to', 'PRT'), ('Ohio', 'NOUN'), ('Mattress', 'NOUN'), ('Co', 'NOUN'), ('.', '.'), ('was', 'VERB'), (\"n't\", 'ADV'), ('repaid', 'VERB'), ('on', 'ADP'), ('time', 'NOUN'), ('when', 'ADV'), ('its', 'PRON'), ('$', '.'), ('450', 'NUM'), ('million', 'NUM'), ('*U*', 'X'), ('junk', 'NOUN'), ('financing', 'NOUN'), ('for', 'ADP'), ('a', 'DET'), ('buy-out', 'NOUN'), ('of', 'ADP'), ('the', 'DET'), ('bedding', 'NOUN'), ('company', 'NOUN'), ('was', 'VERB'), ('withdrawn', 'VERB'), ('*-1', 'X'), ('*T*-3', 'X'), ('.', '.')], [('But', 'CONJ'), ('many', 'ADJ'), ('banks', 'NOUN'), ('are', 'VERB'), ('turning', 'VERB'), ('away', 'ADV'), ('from', 'ADP'), ('strict', 'ADJ'), ('price', 'NOUN'), ('competition', 'NOUN'), ('.', '.')], [('In', 'ADP'), ('a', 'DET'), ('victory', 'NOUN'), ('for', 'ADP'), ('environmentalists', 'NOUN'), (',', '.'), ('Hungary', 'NOUN'), (\"'s\", 'PRT'), ('parliament', 'NOUN'), ('terminated', 'VERB'), ('a', 'DET'), ('multibillion-dollar', 'ADJ'), ('River', 'NOUN'), ('Danube', 'NOUN'), ('dam', 'NOUN'), ('being', 'VERB'), ('built', 'VERB'), ('*', 'X'), ('by', 'ADP'), ('Austrian', 'ADJ'), ('firms', 'NOUN'), ('.', '.')], [('Its', 'PRON'), ('subsidiaries', 'NOUN'), (\"'\", 'PRT'), ('services', 'NOUN'), ('are', 'VERB'), ('marketed', 'VERB'), ('*-1', 'X'), ('by', 'ADP'), ('closely', 'ADV'), ('held', 'VERB'), ('A.L.', 'NOUN'), ('Williams', 'NOUN'), ('&', 'CONJ'), ('Associates', 'NOUN'), ('.', '.')], [('Diaper', 'NOUN'), ('shortages', 'NOUN'), ('this', 'DET'), ('summer', 'NOUN'), ('limited', 'VERB'), ('growth', 'NOUN'), ('at', 'ADP'), ('Stork', 'NOUN'), ('Diaper', 'NOUN'), ('Services', 'NOUN'), (',', '.'), ('Springfield', 'NOUN'), (',', '.'), ('Mass.', 'NOUN'), (',', '.'), ('where', 'ADV'), ('business', 'NOUN'), ('is', 'VERB'), ('up', 'ADP'), ('25', 'NUM'), ('%', 'NOUN'), ('in', 'ADP'), ('*T*-1', 'X')], [('No', 'ADV'), ('fewer', 'ADJ'), ('than', 'ADP'), ('24', 'NUM'), ('country', 'NOUN'), ('funds', 'NOUN'), ('*ICH*-1', 'X'), ('have', 'VERB'), ('been', 'VERB'), ('launched', 'VERB'), ('*-2', 'X'), ('or', 'CONJ'), ('registered', 'VERB'), ('*-2', 'X'), ('with', 'ADP'), ('regulators', 'NOUN'), ('this', 'DET'), ('year', 'NOUN'), (',', '.'), ('triple', 'ADV'), ('the', 'DET'), ('level', 'NOUN'), ('of', 'ADP'), ('all', 'DET'), ('of', 'ADP'), ('1988', 'NUM'), (',', '.'), ('according', 'VERB'), ('to', 'PRT'), ('Charles', 'NOUN'), ('E.', 'NOUN'), ('Simon', 'NOUN'), ('&', 'CONJ'), ('Co.', 'NOUN'), (',', '.'), ('a', 'DET'), ('Washington-based', 'ADJ'), ('research', 'NOUN'), ('firm', 'NOUN'), ('.', '.')], [('But', 'CONJ'), ('a', 'DET'), ('1948', 'NUM'), ('law', 'NOUN'), ('barred', 'VERB'), ('the', 'DET'), ('``', '.'), ('dissemination', 'NOUN'), (\"''\", '.'), ('of', 'ADP'), ('that', 'DET'), ('material', 'NOUN'), ('in', 'ADP'), ('the', 'DET'), ('U.S.', 'NOUN'), ('.', '.')], [('The', 'DET'), ('legislation', 'NOUN'), ('itself', 'PRON'), ('noted', 'VERB'), ('that', 'ADP'), ('it', 'PRON'), ('was', 'VERB'), ('introduced', 'VERB'), ('*-1', 'X'), ('``', '.'), ('by', 'ADP'), ('request', 'NOUN'), (',', '.'), (\"''\", '.'), ('and', 'CONJ'), ('in', 'ADP'), ('1983', 'NUM'), ('Mr.', 'NOUN'), ('Wilder', 'NOUN'), ('introduced', 'VERB'), ('a', 'DET'), ('bill', 'NOUN'), ('0', 'X'), ('*T*-2', 'X'), ('to', 'PRT'), ('protect', 'VERB'), ('rape', 'NOUN'), ('victims', 'NOUN'), ('from', 'ADP'), ('unfounded', 'ADJ'), ('interrogation', 'NOUN'), ('.', '.')]]\n"
     ]
    }
   ],
   "source": [
    "# Splitting into train and test\n",
    "random.seed(1234)\n",
    "train_set, test_set = train_test_split(nltk_data,test_size=0.05)\n",
    "\n",
    "print(len(train_set))\n",
    "print(len(test_set))\n",
    "print(train_set[:40])"
   ]
  },
  {
   "cell_type": "code",
   "execution_count": 4,
   "metadata": {},
   "outputs": [
    {
     "name": "stdout",
     "output_type": "stream",
     "text": [
      "95622\n",
      "5054\n"
     ]
    }
   ],
   "source": [
    "# Getting list of tagged words\n",
    "train_tagged_words = [tup for sent in train_set for tup in sent]\n",
    "test_tagged_words = [tup[0] for sent in test_set for tup in sent]\n",
    "print(len(train_tagged_words))\n",
    "print(len(test_tagged_words))"
   ]
  },
  {
   "cell_type": "code",
   "execution_count": 5,
   "metadata": {},
   "outputs": [
    {
     "name": "stdout",
     "output_type": "stream",
     "text": [
      "95622\n"
     ]
    }
   ],
   "source": [
    "tokens = [pair[0] for pair in train_tagged_words]\n",
    "print(len(tokens))"
   ]
  },
  {
   "cell_type": "code",
   "execution_count": 6,
   "metadata": {},
   "outputs": [
    {
     "name": "stdout",
     "output_type": "stream",
     "text": [
      "12078\n"
     ]
    }
   ],
   "source": [
    "# vocabulary\n",
    "V = set(tokens)\n",
    "print(len(V))\n"
   ]
  },
  {
   "cell_type": "code",
   "execution_count": 7,
   "metadata": {},
   "outputs": [
    {
     "name": "stdout",
     "output_type": "stream",
     "text": [
      "{'DET', '.', 'X', 'ADJ', 'ADV', 'VERB', 'ADP', 'CONJ', 'PRON', 'PRT', 'NUM', 'NOUN'}\n"
     ]
    }
   ],
   "source": [
    "# number of tags\n",
    "T = set([pair[1] for pair in train_tagged_words])\n",
    "len(T)\n",
    "print(T)"
   ]
  },
  {
   "cell_type": "markdown",
   "metadata": {},
   "source": [
    "### Emission Probablilities"
   ]
  },
  {
   "cell_type": "code",
   "execution_count": 8,
   "metadata": {},
   "outputs": [],
   "source": [
    "# computing P(w/t) and storing in T x V matrix\n",
    "t = len(T)\n",
    "v = len(V)\n",
    "w_given_t = np.zeros((t, v))"
   ]
  },
  {
   "cell_type": "code",
   "execution_count": 9,
   "metadata": {},
   "outputs": [],
   "source": [
    "# compute word given tag: Emission Probability\n",
    "def word_given_tag(word, tag, train_bag = train_tagged_words):\n",
    "    tag_list = [pair for pair in train_bag if pair[1]==tag]\n",
    "    count_tag = len(tag_list)\n",
    "    w_given_tag_list = [pair[0] for pair in tag_list if pair[0]==word]\n",
    "    count_w_given_tag = len(w_given_tag_list)\n",
    "    \n",
    "    return (count_w_given_tag, count_tag)"
   ]
  },
  {
   "cell_type": "markdown",
   "metadata": {},
   "source": [
    "### Transition Probabilities"
   ]
  },
  {
   "cell_type": "code",
   "execution_count": 10,
   "metadata": {},
   "outputs": [],
   "source": [
    "# compute tag given tag: tag2(t2) given tag1 (t1), i.e. Transition Probability\n",
    "\n",
    "def t2_given_t1(t2, t1, train_bag = train_tagged_words):\n",
    "    tags = [pair[1] for pair in train_bag]\n",
    "    count_t1 = len([t for t in tags if t==t1])\n",
    "    count_t2_t1 = 0\n",
    "    for index in range(len(tags)-1):\n",
    "        if tags[index]==t1 and tags[index+1] == t2:\n",
    "            count_t2_t1 += 1\n",
    "    return (count_t2_t1, count_t1)"
   ]
  },
  {
   "cell_type": "code",
   "execution_count": 11,
   "metadata": {},
   "outputs": [],
   "source": [
    "# creating t x t transition matrix of tags\n",
    "# each column is t2, each row is t1\n",
    "# thus M(i, j) represents P(tj given ti)\n",
    "\n",
    "tags_matrix = np.zeros((len(T), len(T)), dtype='float32')\n",
    "for i, t1 in enumerate(list(T)):\n",
    "    for j, t2 in enumerate(list(T)): \n",
    "        tags_matrix[i, j] = t2_given_t1(t2, t1)[0]/t2_given_t1(t2, t1)[1]"
   ]
  },
  {
   "cell_type": "code",
   "execution_count": 12,
   "metadata": {},
   "outputs": [
    {
     "data": {
      "text/plain": [
       "array([[5.53949922e-03, 1.78227369e-02, 4.58815023e-02, 2.04961464e-01,\n",
       "        1.24036605e-02, 3.92581895e-02, 9.51348711e-03, 4.81695577e-04,\n",
       "        3.73314065e-03, 2.40847789e-04, 2.22784206e-02, 6.37885332e-01],\n",
       "       [1.75139710e-01, 9.17613134e-02, 2.75824778e-02, 4.38976027e-02,\n",
       "        5.25509268e-02, 8.86965916e-02, 9.10402015e-02, 5.79592586e-02,\n",
       "        6.54407814e-02, 2.34360923e-03, 8.10347944e-02, 2.22462595e-01],\n",
       "       [5.43772914e-02, 1.63610265e-01, 7.44697824e-02, 1.70626696e-02,\n",
       "        2.63115931e-02, 2.05868289e-01, 1.44952953e-01, 1.02057084e-02,\n",
       "        5.56530058e-02, 1.83224365e-01, 2.71089142e-03, 6.15531802e-02],\n",
       "       [4.93339915e-03, 6.29830584e-02, 2.08847225e-02, 6.67653382e-02,\n",
       "        4.27561253e-03, 1.21690510e-02, 7.74543658e-02, 1.71024501e-02,\n",
       "        6.57786557e-04, 1.10179251e-02, 2.10491698e-02, 7.00707138e-01],\n",
       "       [6.96666688e-02, 1.35333329e-01, 2.30000000e-02, 1.27666667e-01,\n",
       "        8.06666687e-02, 3.45666677e-01, 1.17666669e-01, 7.00000022e-03,\n",
       "        1.53333331e-02, 1.33333337e-02, 3.26666683e-02, 3.20000015e-02],\n",
       "       [1.34007782e-01, 3.57198454e-02, 2.17509732e-01, 6.52918294e-02,\n",
       "        8.10116753e-02, 1.68326855e-01, 9.15175080e-02, 5.52529190e-03,\n",
       "        3.59533057e-02, 3.17509733e-02, 2.31906623e-02, 1.10194549e-01],\n",
       "       [3.24491322e-01, 3.99488658e-02, 3.41962278e-02, 1.06743366e-01,\n",
       "        1.38489399e-02, 8.30936432e-03, 1.67252589e-02, 7.45712139e-04,\n",
       "        6.70075640e-02, 1.49142428e-03, 6.20006397e-02, 3.24491322e-01],\n",
       "       [1.18825719e-01, 3.54147255e-02, 8.38769786e-03, 1.18825719e-01,\n",
       "        5.31220883e-02, 1.57036349e-01, 5.21901213e-02, 4.65983234e-04,\n",
       "        5.82479015e-02, 5.12581551e-03, 4.14725058e-02, 3.50885361e-01],\n",
       "       [9.65996925e-03, 4.17310670e-02, 9.54404920e-02, 7.45749623e-02,\n",
       "        3.40030901e-02, 4.79907274e-01, 2.35703252e-02, 5.02318377e-03,\n",
       "        7.72797549e-03, 1.27511593e-02, 6.95517752e-03, 2.08655328e-01],\n",
       "       [1.02034122e-01, 4.23228331e-02, 1.41076120e-02, 8.59580040e-02,\n",
       "        8.85826815e-03, 3.99606287e-01, 2.00131238e-02, 2.29658792e-03,\n",
       "        1.87007878e-02, 1.96850393e-03, 5.77427819e-02, 2.46391073e-01],\n",
       "       [3.55450227e-03, 1.16113745e-01, 2.09715635e-01, 3.25829387e-02,\n",
       "        2.96208542e-03, 1.89573467e-02, 3.52488160e-02, 1.36255920e-02,\n",
       "        1.77725113e-03, 2.66587678e-02, 1.85426533e-01, 3.53376776e-01],\n",
       "       [1.32110491e-02, 2.39254653e-01, 2.87149251e-02, 1.21920155e-02,\n",
       "        1.71416085e-02, 1.46886483e-01, 1.77566692e-01, 4.23990972e-02,\n",
       "        4.84041218e-03, 4.37456779e-02, 9.46245994e-03, 2.64584929e-01]],\n",
       "      dtype=float32)"
      ]
     },
     "execution_count": 12,
     "metadata": {},
     "output_type": "execute_result"
    }
   ],
   "source": [
    "tags_matrix"
   ]
  },
  {
   "cell_type": "code",
   "execution_count": 13,
   "metadata": {},
   "outputs": [],
   "source": [
    "# convert the matrix to a df for better readability\n",
    "tags_df = pd.DataFrame(tags_matrix, columns = list(T), index=list(T))"
   ]
  },
  {
   "cell_type": "code",
   "execution_count": 14,
   "metadata": {},
   "outputs": [
    {
     "data": {
      "text/html": [
       "<div>\n",
       "<style scoped>\n",
       "    .dataframe tbody tr th:only-of-type {\n",
       "        vertical-align: middle;\n",
       "    }\n",
       "\n",
       "    .dataframe tbody tr th {\n",
       "        vertical-align: top;\n",
       "    }\n",
       "\n",
       "    .dataframe thead th {\n",
       "        text-align: right;\n",
       "    }\n",
       "</style>\n",
       "<table border=\"1\" class=\"dataframe\">\n",
       "  <thead>\n",
       "    <tr style=\"text-align: right;\">\n",
       "      <th></th>\n",
       "      <th>DET</th>\n",
       "      <th>.</th>\n",
       "      <th>X</th>\n",
       "      <th>ADJ</th>\n",
       "      <th>ADV</th>\n",
       "      <th>VERB</th>\n",
       "      <th>ADP</th>\n",
       "      <th>CONJ</th>\n",
       "      <th>PRON</th>\n",
       "      <th>PRT</th>\n",
       "      <th>NUM</th>\n",
       "      <th>NOUN</th>\n",
       "    </tr>\n",
       "  </thead>\n",
       "  <tbody>\n",
       "    <tr>\n",
       "      <th>DET</th>\n",
       "      <td>0.005539</td>\n",
       "      <td>0.017823</td>\n",
       "      <td>0.045882</td>\n",
       "      <td>0.204961</td>\n",
       "      <td>0.012404</td>\n",
       "      <td>0.039258</td>\n",
       "      <td>0.009513</td>\n",
       "      <td>0.000482</td>\n",
       "      <td>0.003733</td>\n",
       "      <td>0.000241</td>\n",
       "      <td>0.022278</td>\n",
       "      <td>0.637885</td>\n",
       "    </tr>\n",
       "    <tr>\n",
       "      <th>.</th>\n",
       "      <td>0.175140</td>\n",
       "      <td>0.091761</td>\n",
       "      <td>0.027582</td>\n",
       "      <td>0.043898</td>\n",
       "      <td>0.052551</td>\n",
       "      <td>0.088697</td>\n",
       "      <td>0.091040</td>\n",
       "      <td>0.057959</td>\n",
       "      <td>0.065441</td>\n",
       "      <td>0.002344</td>\n",
       "      <td>0.081035</td>\n",
       "      <td>0.222463</td>\n",
       "    </tr>\n",
       "    <tr>\n",
       "      <th>X</th>\n",
       "      <td>0.054377</td>\n",
       "      <td>0.163610</td>\n",
       "      <td>0.074470</td>\n",
       "      <td>0.017063</td>\n",
       "      <td>0.026312</td>\n",
       "      <td>0.205868</td>\n",
       "      <td>0.144953</td>\n",
       "      <td>0.010206</td>\n",
       "      <td>0.055653</td>\n",
       "      <td>0.183224</td>\n",
       "      <td>0.002711</td>\n",
       "      <td>0.061553</td>\n",
       "    </tr>\n",
       "    <tr>\n",
       "      <th>ADJ</th>\n",
       "      <td>0.004933</td>\n",
       "      <td>0.062983</td>\n",
       "      <td>0.020885</td>\n",
       "      <td>0.066765</td>\n",
       "      <td>0.004276</td>\n",
       "      <td>0.012169</td>\n",
       "      <td>0.077454</td>\n",
       "      <td>0.017102</td>\n",
       "      <td>0.000658</td>\n",
       "      <td>0.011018</td>\n",
       "      <td>0.021049</td>\n",
       "      <td>0.700707</td>\n",
       "    </tr>\n",
       "    <tr>\n",
       "      <th>ADV</th>\n",
       "      <td>0.069667</td>\n",
       "      <td>0.135333</td>\n",
       "      <td>0.023000</td>\n",
       "      <td>0.127667</td>\n",
       "      <td>0.080667</td>\n",
       "      <td>0.345667</td>\n",
       "      <td>0.117667</td>\n",
       "      <td>0.007000</td>\n",
       "      <td>0.015333</td>\n",
       "      <td>0.013333</td>\n",
       "      <td>0.032667</td>\n",
       "      <td>0.032000</td>\n",
       "    </tr>\n",
       "    <tr>\n",
       "      <th>VERB</th>\n",
       "      <td>0.134008</td>\n",
       "      <td>0.035720</td>\n",
       "      <td>0.217510</td>\n",
       "      <td>0.065292</td>\n",
       "      <td>0.081012</td>\n",
       "      <td>0.168327</td>\n",
       "      <td>0.091518</td>\n",
       "      <td>0.005525</td>\n",
       "      <td>0.035953</td>\n",
       "      <td>0.031751</td>\n",
       "      <td>0.023191</td>\n",
       "      <td>0.110195</td>\n",
       "    </tr>\n",
       "    <tr>\n",
       "      <th>ADP</th>\n",
       "      <td>0.324491</td>\n",
       "      <td>0.039949</td>\n",
       "      <td>0.034196</td>\n",
       "      <td>0.106743</td>\n",
       "      <td>0.013849</td>\n",
       "      <td>0.008309</td>\n",
       "      <td>0.016725</td>\n",
       "      <td>0.000746</td>\n",
       "      <td>0.067008</td>\n",
       "      <td>0.001491</td>\n",
       "      <td>0.062001</td>\n",
       "      <td>0.324491</td>\n",
       "    </tr>\n",
       "    <tr>\n",
       "      <th>CONJ</th>\n",
       "      <td>0.118826</td>\n",
       "      <td>0.035415</td>\n",
       "      <td>0.008388</td>\n",
       "      <td>0.118826</td>\n",
       "      <td>0.053122</td>\n",
       "      <td>0.157036</td>\n",
       "      <td>0.052190</td>\n",
       "      <td>0.000466</td>\n",
       "      <td>0.058248</td>\n",
       "      <td>0.005126</td>\n",
       "      <td>0.041473</td>\n",
       "      <td>0.350885</td>\n",
       "    </tr>\n",
       "    <tr>\n",
       "      <th>PRON</th>\n",
       "      <td>0.009660</td>\n",
       "      <td>0.041731</td>\n",
       "      <td>0.095440</td>\n",
       "      <td>0.074575</td>\n",
       "      <td>0.034003</td>\n",
       "      <td>0.479907</td>\n",
       "      <td>0.023570</td>\n",
       "      <td>0.005023</td>\n",
       "      <td>0.007728</td>\n",
       "      <td>0.012751</td>\n",
       "      <td>0.006955</td>\n",
       "      <td>0.208655</td>\n",
       "    </tr>\n",
       "    <tr>\n",
       "      <th>PRT</th>\n",
       "      <td>0.102034</td>\n",
       "      <td>0.042323</td>\n",
       "      <td>0.014108</td>\n",
       "      <td>0.085958</td>\n",
       "      <td>0.008858</td>\n",
       "      <td>0.399606</td>\n",
       "      <td>0.020013</td>\n",
       "      <td>0.002297</td>\n",
       "      <td>0.018701</td>\n",
       "      <td>0.001969</td>\n",
       "      <td>0.057743</td>\n",
       "      <td>0.246391</td>\n",
       "    </tr>\n",
       "    <tr>\n",
       "      <th>NUM</th>\n",
       "      <td>0.003555</td>\n",
       "      <td>0.116114</td>\n",
       "      <td>0.209716</td>\n",
       "      <td>0.032583</td>\n",
       "      <td>0.002962</td>\n",
       "      <td>0.018957</td>\n",
       "      <td>0.035249</td>\n",
       "      <td>0.013626</td>\n",
       "      <td>0.001777</td>\n",
       "      <td>0.026659</td>\n",
       "      <td>0.185427</td>\n",
       "      <td>0.353377</td>\n",
       "    </tr>\n",
       "    <tr>\n",
       "      <th>NOUN</th>\n",
       "      <td>0.013211</td>\n",
       "      <td>0.239255</td>\n",
       "      <td>0.028715</td>\n",
       "      <td>0.012192</td>\n",
       "      <td>0.017142</td>\n",
       "      <td>0.146886</td>\n",
       "      <td>0.177567</td>\n",
       "      <td>0.042399</td>\n",
       "      <td>0.004840</td>\n",
       "      <td>0.043746</td>\n",
       "      <td>0.009462</td>\n",
       "      <td>0.264585</td>\n",
       "    </tr>\n",
       "  </tbody>\n",
       "</table>\n",
       "</div>"
      ],
      "text/plain": [
       "           DET         .         X       ADJ       ADV      VERB       ADP  \\\n",
       "DET   0.005539  0.017823  0.045882  0.204961  0.012404  0.039258  0.009513   \n",
       ".     0.175140  0.091761  0.027582  0.043898  0.052551  0.088697  0.091040   \n",
       "X     0.054377  0.163610  0.074470  0.017063  0.026312  0.205868  0.144953   \n",
       "ADJ   0.004933  0.062983  0.020885  0.066765  0.004276  0.012169  0.077454   \n",
       "ADV   0.069667  0.135333  0.023000  0.127667  0.080667  0.345667  0.117667   \n",
       "VERB  0.134008  0.035720  0.217510  0.065292  0.081012  0.168327  0.091518   \n",
       "ADP   0.324491  0.039949  0.034196  0.106743  0.013849  0.008309  0.016725   \n",
       "CONJ  0.118826  0.035415  0.008388  0.118826  0.053122  0.157036  0.052190   \n",
       "PRON  0.009660  0.041731  0.095440  0.074575  0.034003  0.479907  0.023570   \n",
       "PRT   0.102034  0.042323  0.014108  0.085958  0.008858  0.399606  0.020013   \n",
       "NUM   0.003555  0.116114  0.209716  0.032583  0.002962  0.018957  0.035249   \n",
       "NOUN  0.013211  0.239255  0.028715  0.012192  0.017142  0.146886  0.177567   \n",
       "\n",
       "          CONJ      PRON       PRT       NUM      NOUN  \n",
       "DET   0.000482  0.003733  0.000241  0.022278  0.637885  \n",
       ".     0.057959  0.065441  0.002344  0.081035  0.222463  \n",
       "X     0.010206  0.055653  0.183224  0.002711  0.061553  \n",
       "ADJ   0.017102  0.000658  0.011018  0.021049  0.700707  \n",
       "ADV   0.007000  0.015333  0.013333  0.032667  0.032000  \n",
       "VERB  0.005525  0.035953  0.031751  0.023191  0.110195  \n",
       "ADP   0.000746  0.067008  0.001491  0.062001  0.324491  \n",
       "CONJ  0.000466  0.058248  0.005126  0.041473  0.350885  \n",
       "PRON  0.005023  0.007728  0.012751  0.006955  0.208655  \n",
       "PRT   0.002297  0.018701  0.001969  0.057743  0.246391  \n",
       "NUM   0.013626  0.001777  0.026659  0.185427  0.353377  \n",
       "NOUN  0.042399  0.004840  0.043746  0.009462  0.264585  "
      ]
     },
     "execution_count": 14,
     "metadata": {},
     "output_type": "execute_result"
    }
   ],
   "source": [
    "tags_df"
   ]
  },
  {
   "cell_type": "code",
   "execution_count": 15,
   "metadata": {},
   "outputs": [
    {
     "data": {
      "image/png": "[encoded data removed]",
      "text/plain": [
       "<Figure size 1296x864 with 2 Axes>"
      ]
     },
     "metadata": {
      "needs_background": "light"
     },
     "output_type": "display_data"
    }
   ],
   "source": [
    "# heatmap of tags matrix\n",
    "# T(i, j) means P(tag j given tag i)\n",
    "plt.figure(figsize=(18, 12))\n",
    "sns.heatmap(tags_df,annot=True)\n",
    "plt.show()"
   ]
  },
  {
   "cell_type": "code",
   "execution_count": 90,
   "metadata": {},
   "outputs": [
    {
     "data": {
      "image/png": "[encoded data removed]",
      "text/plain": [
       "<Figure size 1296x864 with 2 Axes>"
      ]
     },
     "metadata": {
      "needs_background": "light"
     },
     "output_type": "display_data"
    }
   ],
   "source": [
    "# frequent tags\n",
    "# filter the df to get P(t2, t1) > 0.5\n",
    "tags_frequent = tags_df[tags_df>0.5]\n",
    "plt.figure(figsize=(18, 12))\n",
    "sns.heatmap(tags_frequent)\n",
    "plt.show()"
   ]
  },
  {
   "cell_type": "markdown",
   "metadata": {},
   "source": [
    "### Build the vanilla Viterbi based POS tagger"
   ]
  },
  {
   "cell_type": "code",
   "execution_count": 17,
   "metadata": {},
   "outputs": [],
   "source": [
    "# Viterbi Heuristic\n",
    "def Viterbi(words, train_bag = train_tagged_words):\n",
    "    state = []\n",
    "    T = list(set([pair[1] for pair in train_bag]))\n",
    "    \n",
    "    for key, word in enumerate(words):\n",
    "        #initialise list of probability column for a given observation\n",
    "        p = [] \n",
    "        for tag in T:\n",
    "            if key == 0:\n",
    "                transition_p = tags_df.loc['.', tag]\n",
    "            else:\n",
    "                transition_p = tags_df.loc[state[-1], tag]\n",
    "                \n",
    "            # compute emission and state probabilities\n",
    "            emission_p = word_given_tag(words[key], tag)[0]/word_given_tag(words[key], tag)[1]\n",
    "            state_probability = emission_p * transition_p    \n",
    "            p.append(state_probability)\n",
    "            \n",
    "        pmax = max(p)\n",
    "        # getting state for which probability is maximum\n",
    "        state_max = T[p.index(pmax)] \n",
    "        state.append(state_max)\n",
    "    return list(zip(words, state))"
   ]
  },
  {
   "cell_type": "code",
   "execution_count": 18,
   "metadata": {},
   "outputs": [],
   "source": [
    "# Running on entire test dataset would take more than 3-4hrs. \n",
    "# Let's test our Viterbi algorithm on a few sample sentences of test dataset\n",
    "\n",
    "random.seed(1234)\n",
    "\n",
    "# choose random 5 sents\n",
    "rndom = [random.randint(1,len(test_set)) for x in range(5)]\n",
    "\n",
    "# list of sents\n",
    "test_run = [test_set[i] for i in rndom]\n",
    "\n",
    "# list of tagged words\n",
    "test_run_base = [tup for sent in test_run for tup in sent]\n",
    "\n",
    "# list of untagged words\n",
    "test_tagged_words = [tup[0] for sent in test_run for tup in sent]\n"
   ]
  },
  {
   "cell_type": "code",
   "execution_count": 19,
   "metadata": {},
   "outputs": [],
   "source": [
    "# tagging the test sentences\n",
    "start = time.time()\n",
    "tagged_seq = Viterbi(test_tagged_words)\n",
    "end = time.time()\n",
    "difference = end-start"
   ]
  },
  {
   "cell_type": "code",
   "execution_count": 20,
   "metadata": {},
   "outputs": [],
   "source": [
    "# accuracy\n",
    "check = [i for i, j in zip(tagged_seq, test_run_base) if i == j] \n",
    "accuracy_orig_viterbi = len(check)/len(tagged_seq)"
   ]
  },
  {
   "cell_type": "code",
   "execution_count": 21,
   "metadata": {},
   "outputs": [
    {
     "data": {
      "text/plain": [
       "0.890625"
      ]
     },
     "execution_count": 21,
     "metadata": {},
     "output_type": "execute_result"
    }
   ],
   "source": [
    "accuracy_orig_viterbi\n"
   ]
  },
  {
   "cell_type": "code",
   "execution_count": 22,
   "metadata": {},
   "outputs": [],
   "source": [
    "incorrect_tagged_cases = [[test_run_base[i-1],j] for i, j in enumerate(zip(tagged_seq, test_run_base)) if j[0]!=j[1]]"
   ]
  },
  {
   "cell_type": "code",
   "execution_count": 23,
   "metadata": {},
   "outputs": [
    {
     "data": {
      "text/plain": [
       "[[('be', 'VERB'), (('delisted', 'DET'), ('delisted', 'VERB'))],\n",
       " [('the', 'DET'), (('close', 'ADJ'), ('close', 'NOUN'))],\n",
       " [('$', '.'), (('23.25', 'DET'), ('23.25', 'NUM'))],\n",
       " [(',', '.'), (('off', 'ADP'), ('off', 'ADV'))],\n",
       " [('in', 'ADP'), (('excess', 'ADJ'), ('excess', 'NOUN'))],\n",
       " [(\"''\", '.'), (('FIRST', 'DET'), ('FIRST', 'NUM'))],\n",
       " [('FIRST', 'NUM'), (('CAMPAIGN', 'DET'), ('CAMPAIGN', 'NOUN'))]]"
      ]
     },
     "execution_count": 23,
     "metadata": {},
     "output_type": "execute_result"
    }
   ],
   "source": [
    "incorrect_tagged_cases"
   ]
  },
  {
   "cell_type": "markdown",
   "metadata": {},
   "source": [
    "### Solve the problem of unknown words\n",
    "\n",
    "1. Unigram Tagger\n",
    "\n",
    "2. Unigram with RegExp Tagger\n",
    "\n",
    "3. Original Viterbi Algorithm\n",
    "\n",
    "4. Viterbi Algorithm Modification 1\n",
    "\n",
    "5. Viterbi Algorithm Modification 2"
   ]
  },
  {
   "cell_type": "markdown",
   "metadata": {},
   "source": [
    "## Unigram Tagger"
   ]
  },
  {
   "cell_type": "code",
   "execution_count": 47,
   "metadata": {},
   "outputs": [
    {
     "name": "stdout",
     "output_type": "stream",
     "text": [
      "0.9070043529877325\n"
     ]
    }
   ],
   "source": [
    "# Lexicon (or unigram tagger)\n",
    "unigram_tagger = nltk.UnigramTagger(train_set)\n",
    "unigram_accuracy=unigram_tagger.evaluate(test_set)\n",
    "print(unigram_accuracy)"
   ]
  },
  {
   "cell_type": "code",
   "execution_count": 68,
   "metadata": {},
   "outputs": [],
   "source": [
    "  # Rules for Lexicon with unigram tagger\n",
    "    \n",
    "patterns = [\n",
    "    (r'.*ing$', 'VERB'),              # gerund\n",
    "    (r'.*ed$', 'VERB'),               # past tense\n",
    "    (r'.*es$', 'VERB'),               # 3rd singular present\n",
    "    (r'.*ould$', 'MD'),              # modals\n",
    "    (r'.*\\'s$', 'PRON'),              # possessive nouns\n",
    "    (r'.*s$', 'PRON'),                # plural nouns\n",
    "    (r'^-?[0-9]+(.[0-9]+)?$', 'NUM'), # cardinal numbers\n",
    "    (r'.*', 'NOUN'),\n",
    "    (r'(The|the|A|a|An|an|That|that|This|this|Those|those|These|these)$', 'DET'),\n",
    "    (r'.*able$', 'ADJ'),\n",
    "    (r'.*ful$', 'ADJ'),\n",
    "    (r'.*ous$', 'ADJ'),\n",
    "    (r'.*ly$', 'ADV'),\n",
    "    (r'\\.$','.'), (r'\\,$',','), (r'\\?$','?'),\n",
    "     (r'.*ould$', 'X'),\n",
    "    (r'^(0|([*|-|$].*))','X')# fullstop, comm\n",
    "]"
   ]
  },
  {
   "cell_type": "markdown",
   "metadata": {},
   "source": [
    "## Unigram with RegExp Tagger"
   ]
  },
  {
   "cell_type": "code",
   "execution_count": 69,
   "metadata": {},
   "outputs": [
    {
     "name": "stdout",
     "output_type": "stream",
     "text": [
      "0.9410368025326474\n"
     ]
    }
   ],
   "source": [
    "# rule based tagger\n",
    "rule_based_tagger = nltk.RegexpTagger(patterns)\n",
    "\n",
    "# lexicon backed up by the rule-based tagger\n",
    "lexicon_tagger = nltk.UnigramTagger(train_set, backoff=rule_based_tagger)\n",
    "\n",
    "unigram_with_lexicon_accuracy=lexicon_tagger.evaluate(test_set)\n",
    "print(unigram_with_lexicon_accuracy)"
   ]
  },
  {
   "cell_type": "markdown",
   "metadata": {},
   "source": [
    "## Viterbi Modification Technique 1\n",
    "\n",
    "Use the transition probablilty when the emission probability is 0"
   ]
  },
  {
   "cell_type": "code",
   "execution_count": 74,
   "metadata": {},
   "outputs": [],
   "source": [
    "def Viterbi_Unknown_Words(words, train_bag = train_tagged_words):\n",
    "    state = []\n",
    "    T = list(set([pair[1] for pair in train_bag]))\n",
    "    \n",
    "    for key, word in enumerate(words):\n",
    "        \n",
    "        #initialise list of probability column for a given observation\n",
    "        p = [] \n",
    "        p_transition =[] # list for storing transition probabilities\n",
    "        for tag in T:\n",
    "            if key == 0:\n",
    "                transition_p = tags_df.loc['.', tag]\n",
    "            else:\n",
    "                transition_p = tags_df.loc[state[-1], tag]\n",
    "                \n",
    "            emission_p = word_given_tag(words[key], tag)[0]/word_given_tag(words[key], tag)[1]\n",
    "            state_probability = emission_p * transition_p    \n",
    "            p.append(state_probability)\n",
    "            p_transition.append(transition_p)\n",
    "            \n",
    "        pmax = max(p)\n",
    "        state_max = T[p.index(pmax)] \n",
    "        if(pmax==0):\n",
    "            pmax = max(p_transition)\n",
    "            state_max = T[p_transition.index(pmax)]\n",
    "                           \n",
    "        else:\n",
    "            state_max = T[p.index(pmax)] \n",
    "        \n",
    "        state.append(state_max)\n",
    "    return list(zip(words, state))"
   ]
  },
  {
   "cell_type": "markdown",
   "metadata": {},
   "source": [
    "#### Evaluating tagging accuracy"
   ]
  },
  {
   "cell_type": "code",
   "execution_count": 28,
   "metadata": {},
   "outputs": [],
   "source": [
    "# tagging the test sentences\n",
    "start = time.time()\n",
    "tagged_seqo = Viterbi_Unknown_Words(test_tagged_words)\n",
    "end = time.time()\n",
    "difference = end-start\n",
    "\n",
    "# accuracy\n",
    "check = [i for i, j in zip(tagged_seqo, test_run_base) if i == j] \n",
    "accuracy_viterbi_modified_1 = len(check)/len(tagged_seq)"
   ]
  },
  {
   "cell_type": "code",
   "execution_count": 29,
   "metadata": {},
   "outputs": [
    {
     "data": {
      "text/plain": [
       "0.90625"
      ]
     },
     "execution_count": 29,
     "metadata": {},
     "output_type": "execute_result"
    }
   ],
   "source": [
    "accuracy_viterbi_modified_1\n"
   ]
  },
  {
   "cell_type": "code",
   "execution_count": 30,
   "metadata": {},
   "outputs": [],
   "source": [
    "incorrect_tagged_cases = [[test_run_base[i-1],j] for i, j in enumerate(zip(tagged_seq, test_run_base)) if j[0]!=j[1]]"
   ]
  },
  {
   "cell_type": "code",
   "execution_count": 31,
   "metadata": {},
   "outputs": [
    {
     "data": {
      "text/plain": [
       "[[('be', 'VERB'), (('delisted', 'DET'), ('delisted', 'VERB'))],\n",
       " [('the', 'DET'), (('close', 'ADJ'), ('close', 'NOUN'))],\n",
       " [('$', '.'), (('23.25', 'DET'), ('23.25', 'NUM'))],\n",
       " [(',', '.'), (('off', 'ADP'), ('off', 'ADV'))],\n",
       " [('in', 'ADP'), (('excess', 'ADJ'), ('excess', 'NOUN'))],\n",
       " [(\"''\", '.'), (('FIRST', 'DET'), ('FIRST', 'NUM'))],\n",
       " [('FIRST', 'NUM'), (('CAMPAIGN', 'DET'), ('CAMPAIGN', 'NOUN'))]]"
      ]
     },
     "execution_count": 31,
     "metadata": {},
     "output_type": "execute_result"
    }
   ],
   "source": [
    "incorrect_tagged_cases"
   ]
  },
  {
   "cell_type": "code",
   "execution_count": 91,
   "metadata": {},
   "outputs": [],
   "source": [
    "# specify patterns for tagging\n",
    "#Use Regexp along with Bigram Tagger\n",
    "def bigram_tagger(word,train_set=train_set):\n",
    "    \n",
    "    \n",
    "    patterns = [\n",
    "     (r'[aA-zZ]+(ed|ing|es)$', 'VERB'), # Any word ending with 'ing' or 'ed' is a verb\n",
    "\n",
    "    (r'.*ly$', 'ADV'),\n",
    "        \n",
    "    (r'^([0-9]|[aA-zZ])+\\-[aA-zZ]*$','ADJ'),\n",
    "    (r'.*able$', 'ADJ'), \n",
    "    (r'.*ful$', 'ADJ'),\n",
    "    (r'.*ous$', 'ADJ'),\n",
    "        \n",
    "    (r'^[aA-zZ].*[0-9]+','NOUN'),     # Alpha Numeric\n",
    "    (r'.*ness$', 'NOUN'),\n",
    "    (r'.*\\'s$', 'NOUN'),\n",
    "            (r'.*s$', 'NOUN'),                # plural nouns\n",
    "    (r'.*ers$', 'NOUN'),              # eg.- kinderganteners, autobioghapgers\n",
    "    (r'.*ment$', 'NOUN'),\n",
    "    (r'.*town$', 'NOUN'),\n",
    "        \n",
    "    (r'^(0|([*|-|$].*))','X'), # Any special character combination\n",
    "    (r'.*ould$', 'X'),\n",
    "        \n",
    "    (r'(The|the|A|a|An|an|That|that|This|this|Those|those|These|these)$', 'DET'), # That/this/these/those belong to the category of Demonstrative determiners\n",
    "    (r'[0-9].?[,\\/]?[0-9]*','NUM'), # Numbers \n",
    "        \n",
    "    (r'.*', 'NOUN')\n",
    " \n",
    "]\n",
    "    regexpd_tagger = nltk.RegexpTagger(patterns)\n",
    "    regexp_bigram_tag=nltk.BigramTagger(train_set,backoff=regexpd_tagger)\n",
    "    return regexp_bigram_tag.tag_sents([[(word)]])"
   ]
  },
  {
   "cell_type": "markdown",
   "metadata": {},
   "source": [
    "## Viterbi Modification Technique 2"
   ]
  },
  {
   "cell_type": "code",
   "execution_count": 92,
   "metadata": {},
   "outputs": [],
   "source": [
    "# Use Viterbi with bigram tagger for unknown words\n",
    "\n",
    "def Viterbi_bigram_Tagger(words, train_bag = train_tagged_words):\n",
    "    state = []\n",
    "    T = list(set([pair[1] for pair in train_bag]))\n",
    "    \n",
    "    for key, word in enumerate(words):\n",
    "        \n",
    "        # unknown words from bigram taggr\n",
    "        if word not in V:\n",
    "            \n",
    "            unknown_word=bigram_tagger(word)\n",
    "            for sent in unknown_word:\n",
    "                \n",
    "                for tup in sent:\n",
    "                    \n",
    "                    state.append(tup[1])\n",
    "        else:\n",
    "            \n",
    "            p = [] \n",
    "            for tag in T:\n",
    "                \n",
    "                \n",
    "                \n",
    "                \n",
    "                if key == 0:\n",
    "                    transition_p = tags_df.loc['.', tag]\n",
    "                else:\n",
    "                    transition_p = tags_df.loc[state[-1], tag]\n",
    "                    \n",
    "                \n",
    "            # compute emission and state probabilities\n",
    "                emission_p = word_given_tag(words[key], tag)[0]/word_given_tag(words[key], tag)[1]\n",
    "                state_probability = emission_p * transition_p    \n",
    "                p.append(state_probability)\n",
    "            \n",
    "            pmax = max(p)\n",
    "            # getting state for which probability is maximum\n",
    "            state_max = T[p.index(pmax)] \n",
    "            state.append(state_max)\n",
    "    return list(zip(words, state))"
   ]
  },
  {
   "cell_type": "code",
   "execution_count": 71,
   "metadata": {},
   "outputs": [],
   "source": [
    "# tagging the test sentences\n",
    "start = time.time()\n",
    "\n",
    "tagged_seq = Viterbi_bigram_Tagger(test_tagged_words)\n",
    "end = time.time()\n",
    "difference = end-start\n"
   ]
  },
  {
   "cell_type": "markdown",
   "metadata": {},
   "source": [
    "#### Evaluating tagging accuracy"
   ]
  },
  {
   "cell_type": "code",
   "execution_count": 72,
   "metadata": {},
   "outputs": [],
   "source": [
    "# accuracy\n",
    "check = [i for i, j in zip(tagged_seq, test_run_base) if i == j] \n",
    "accuracy_viterbi_modified_2 = len(check)/len(tagged_seq)"
   ]
  },
  {
   "cell_type": "code",
   "execution_count": 73,
   "metadata": {},
   "outputs": [
    {
     "data": {
      "text/plain": [
       "0.9375"
      ]
     },
     "execution_count": 73,
     "metadata": {},
     "output_type": "execute_result"
    }
   ],
   "source": [
    "accuracy_viterbi_modified_2\n"
   ]
  },
  {
   "cell_type": "code",
   "execution_count": 41,
   "metadata": {},
   "outputs": [],
   "source": [
    "incorrect_tagged_cases = [[test_run_base[i-1],j] for i, j in enumerate(zip(tagged_seq, test_run_base)) if j[0]!=j[1]]"
   ]
  },
  {
   "cell_type": "code",
   "execution_count": 42,
   "metadata": {},
   "outputs": [
    {
     "data": {
      "text/plain": [
       "[[('the', 'DET'), (('close', 'ADJ'), ('close', 'NOUN'))],\n",
       " [(',', '.'), (('off', 'ADP'), ('off', 'ADV'))],\n",
       " [('in', 'ADP'), (('excess', 'ADJ'), ('excess', 'NOUN'))],\n",
       " [(\"''\", '.'), (('FIRST', 'NOUN'), ('FIRST', 'NUM'))]]"
      ]
     },
     "execution_count": 42,
     "metadata": {},
     "output_type": "execute_result"
    }
   ],
   "source": [
    "incorrect_tagged_cases"
   ]
  },
  {
   "cell_type": "code",
   "execution_count": 43,
   "metadata": {},
   "outputs": [],
   "source": [
    "sentence_test = 'Android is a mobile operating system developed by Google.'\n",
    "words = word_tokenize(sentence_test)\n"
   ]
  },
  {
   "cell_type": "markdown",
   "metadata": {},
   "source": [
    "### Compare the tagging accuracies of the modifications with the vanilla Viterbi algorithm"
   ]
  },
  {
   "cell_type": "code",
   "execution_count": 58,
   "metadata": {},
   "outputs": [],
   "source": [
    "acccuracy_of_techniques = [['Original Viterbi', accuracy_orig_viterbi * 100], \n",
    "                  ['Viterbi Modification Technique 1', accuracy_viterbi_modified_1 * 100], \n",
    "                  ['Unigram Tagger', unigram_accuracy * 100],\n",
    "                  ['Unigram with RegexpTagger', unigram_with_lexicon_accuracy * 100],\n",
    "                  ['Viterbi with Bigram Tagger combined', accuracy_viterbi_modified_2 * 100]]"
   ]
  },
  {
   "cell_type": "code",
   "execution_count": 59,
   "metadata": {},
   "outputs": [],
   "source": [
    "Comparison_of_Techniques = pd.DataFrame(acccuracy_of_techniques, columns = ['Technique', 'Accuracy'])\n",
    "\n",
    "Comparison_of_Techniques.set_index('Technique', drop = True, inplace = True)"
   ]
  },
  {
   "cell_type": "code",
   "execution_count": 60,
   "metadata": {},
   "outputs": [
    {
     "data": {
      "text/html": [
       "<div>\n",
       "<style scoped>\n",
       "    .dataframe tbody tr th:only-of-type {\n",
       "        vertical-align: middle;\n",
       "    }\n",
       "\n",
       "    .dataframe tbody tr th {\n",
       "        vertical-align: top;\n",
       "    }\n",
       "\n",
       "    .dataframe thead th {\n",
       "        text-align: right;\n",
       "    }\n",
       "</style>\n",
       "<table border=\"1\" class=\"dataframe\">\n",
       "  <thead>\n",
       "    <tr style=\"text-align: right;\">\n",
       "      <th></th>\n",
       "      <th>Accuracy</th>\n",
       "    </tr>\n",
       "    <tr>\n",
       "      <th>Technique</th>\n",
       "      <th></th>\n",
       "    </tr>\n",
       "  </thead>\n",
       "  <tbody>\n",
       "    <tr>\n",
       "      <th>Unigram with RegexpTagger</th>\n",
       "      <td>94.103680</td>\n",
       "    </tr>\n",
       "    <tr>\n",
       "      <th>Viterbi with Bigram Tagger combined</th>\n",
       "      <td>93.750000</td>\n",
       "    </tr>\n",
       "    <tr>\n",
       "      <th>Unigram Tagger</th>\n",
       "      <td>90.700435</td>\n",
       "    </tr>\n",
       "    <tr>\n",
       "      <th>Viterbi Modification Technique 1</th>\n",
       "      <td>90.625000</td>\n",
       "    </tr>\n",
       "    <tr>\n",
       "      <th>Original Viterbi</th>\n",
       "      <td>89.062500</td>\n",
       "    </tr>\n",
       "  </tbody>\n",
       "</table>\n",
       "</div>"
      ],
      "text/plain": [
       "                                      Accuracy\n",
       "Technique                                     \n",
       "Unigram with RegexpTagger            94.103680\n",
       "Viterbi with Bigram Tagger combined  93.750000\n",
       "Unigram Tagger                       90.700435\n",
       "Viterbi Modification Technique 1     90.625000\n",
       "Original Viterbi                     89.062500"
      ]
     },
     "execution_count": 60,
     "metadata": {},
     "output_type": "execute_result"
    }
   ],
   "source": [
    "Comparison_of_Techniques.sort_values(by='Accuracy',ascending=False,inplace=True)\n",
    "Comparison_of_Techniques"
   ]
  },
  {
   "cell_type": "markdown",
   "metadata": {},
   "source": [
    "### List down cases which were incorrectly tagged by original POS tagger and got corrected by your modifications"
   ]
  },
  {
   "cell_type": "code",
   "execution_count": 61,
   "metadata": {},
   "outputs": [],
   "source": [
    "sentence_test = 'Android is a mobile operating system developed by Google.'\n",
    "words = word_tokenize(sentence_test)"
   ]
  },
  {
   "cell_type": "code",
   "execution_count": 62,
   "metadata": {},
   "outputs": [],
   "source": [
    "start = time.time()\n",
    "tagged_seq = Viterbi(words)\n",
    "end = time.time()\n",
    "difference = end-start"
   ]
  },
  {
   "cell_type": "code",
   "execution_count": 63,
   "metadata": {},
   "outputs": [
    {
     "name": "stdout",
     "output_type": "stream",
     "text": [
      "[('Android', 'DET'), ('is', 'VERB'), ('a', 'DET'), ('mobile', 'ADJ'), ('operating', 'NOUN'), ('system', 'NOUN'), ('developed', 'VERB'), ('by', 'ADP'), ('Google', 'DET'), ('.', '.')]\n"
     ]
    }
   ],
   "source": [
    "print(tagged_seq)\n"
   ]
  },
  {
   "cell_type": "code",
   "execution_count": 65,
   "metadata": {},
   "outputs": [],
   "source": [
    "start = time.time()\n",
    "tagged_seq1 = Viterbi_bigram_Tagger(words)\n",
    "end = time.time()\n",
    "difference = end-start"
   ]
  },
  {
   "cell_type": "markdown",
   "metadata": {},
   "source": [
    "###### As we can see above the original Viterbi tagged the words Android and Google as Determinant where as the modified Viterbi along with Bigram tagger has correctly tagged the words"
   ]
  },
  {
   "cell_type": "code",
   "execution_count": 66,
   "metadata": {},
   "outputs": [
    {
     "name": "stdout",
     "output_type": "stream",
     "text": [
      "[('Android', 'NOUN'), ('is', 'VERB'), ('a', 'DET'), ('mobile', 'ADJ'), ('operating', 'NOUN'), ('system', 'NOUN'), ('developed', 'VERB'), ('by', 'ADP'), ('Google', 'NOUN'), ('.', '.')]\n"
     ]
    }
   ],
   "source": [
    "print(tagged_seq1)\n"
   ]
  },
  {
   "cell_type": "code",
   "execution_count": 75,
   "metadata": {},
   "outputs": [],
   "source": [
    "test2='The 2018 FIFA World Cup is the 21st FIFA World Cup, an international football tournament contested once every four years.'\n",
    "words2 = word_tokenize(test2)"
   ]
  },
  {
   "cell_type": "code",
   "execution_count": 79,
   "metadata": {},
   "outputs": [],
   "source": [
    "start = time.time()\n",
    "tagged_seq2 = Viterbi(words2)\n",
    "end = time.time()\n",
    "difference = end-start"
   ]
  },
  {
   "cell_type": "code",
   "execution_count": 80,
   "metadata": {},
   "outputs": [
    {
     "name": "stdout",
     "output_type": "stream",
     "text": [
      "[('The', 'DET'), ('2018', 'DET'), ('FIFA', 'DET'), ('World', 'NOUN'), ('Cup', 'DET'), ('is', 'VERB'), ('the', 'DET'), ('21st', 'DET'), ('FIFA', 'DET'), ('World', 'NOUN'), ('Cup', 'DET'), (',', '.'), ('an', 'DET'), ('international', 'ADJ'), ('football', 'NOUN'), ('tournament', 'DET'), ('contested', 'DET'), ('once', 'ADV'), ('every', 'DET'), ('four', 'NUM'), ('years', 'NOUN'), ('.', '.')]\n"
     ]
    }
   ],
   "source": [
    "print(tagged_seq2)"
   ]
  },
  {
   "cell_type": "code",
   "execution_count": 81,
   "metadata": {},
   "outputs": [],
   "source": [
    "start = time.time()\n",
    "tagged_seq2 = Viterbi_bigram_Tagger(words2)\n",
    "end = time.time()\n",
    "difference = end-start"
   ]
  },
  {
   "cell_type": "markdown",
   "metadata": {},
   "source": [
    "###### As we can see above the original Viterbi tagged the words FIFA and 2018 as Determinant where as the modified Viterbi along with Bigram tagger has correctly tagged the words"
   ]
  },
  {
   "cell_type": "code",
   "execution_count": 82,
   "metadata": {},
   "outputs": [
    {
     "name": "stdout",
     "output_type": "stream",
     "text": [
      "[('The', 'DET'), ('2018', 'NUM'), ('FIFA', 'NOUN'), ('World', 'NOUN'), ('Cup', 'NOUN'), ('is', 'VERB'), ('the', 'DET'), ('21st', 'NUM'), ('FIFA', 'NOUN'), ('World', 'NOUN'), ('Cup', 'NOUN'), (',', '.'), ('an', 'DET'), ('international', 'ADJ'), ('football', 'NOUN'), ('tournament', 'NOUN'), ('contested', 'VERB'), ('once', 'ADV'), ('every', 'DET'), ('four', 'NUM'), ('years', 'NOUN'), ('.', '.')]\n"
     ]
    }
   ],
   "source": [
    "print(tagged_seq2)"
   ]
  },
  {
   "cell_type": "code",
   "execution_count": 83,
   "metadata": {},
   "outputs": [],
   "source": [
    "test3='NASA invited social media users to experience the launch of ICESAT-2 Satellite.'\n",
    "words3 = word_tokenize(test3)"
   ]
  },
  {
   "cell_type": "code",
   "execution_count": 85,
   "metadata": {},
   "outputs": [],
   "source": [
    "start = time.time()\n",
    "tagged_seq3 = Viterbi(words3)\n",
    "end = time.time()\n",
    "difference = end-start"
   ]
  },
  {
   "cell_type": "code",
   "execution_count": 86,
   "metadata": {},
   "outputs": [
    {
     "name": "stdout",
     "output_type": "stream",
     "text": [
      "[('NASA', 'DET'), ('invited', 'DET'), ('social', 'ADJ'), ('media', 'NOUN'), ('users', 'NOUN'), ('to', 'PRT'), ('experience', 'NOUN'), ('the', 'DET'), ('launch', 'NOUN'), ('of', 'ADP'), ('ICESAT-2', 'DET'), ('Satellite', 'DET'), ('.', '.')]\n"
     ]
    }
   ],
   "source": [
    "print(tagged_seq3)"
   ]
  },
  {
   "cell_type": "code",
   "execution_count": 87,
   "metadata": {},
   "outputs": [],
   "source": [
    "start = time.time()\n",
    "tagged_seq3 = Viterbi_bigram_Tagger(words3)\n",
    "end = time.time()\n",
    "difference = end-start"
   ]
  },
  {
   "cell_type": "markdown",
   "metadata": {},
   "source": [
    "###### As we can see above the original Viterbi tagged the words ICESAT-2 and Satellite as Determinant where as the modified Viterbi along with Bigram tagger has correctly tagged the words"
   ]
  },
  {
   "cell_type": "code",
   "execution_count": 89,
   "metadata": {},
   "outputs": [
    {
     "name": "stdout",
     "output_type": "stream",
     "text": [
      "[('NASA', 'NOUN'), ('invited', 'VERB'), ('social', 'ADJ'), ('media', 'NOUN'), ('users', 'NOUN'), ('to', 'PRT'), ('experience', 'NOUN'), ('the', 'DET'), ('launch', 'NOUN'), ('of', 'ADP'), ('ICESAT-2', 'NOUN'), ('Satellite', 'NOUN'), ('.', '.')]\n"
     ]
    }
   ],
   "source": [
    "print(tagged_seq3)"
   ]
  },
  {
   "cell_type": "code",
   "execution_count": null,
   "metadata": {},
   "outputs": [],
   "source": []
  }
 ],
 "metadata": {
  "kernelspec": {
   "display_name": "Python 3",
   "language": "python",
   "name": "python3"
  },
  "language_info": {
   "codemirror_mode": {
    "name": "ipython",
    "version": 3
   },
   "file_extension": ".py",
   "mimetype": "text/x-python",
   "name": "python",
   "nbconvert_exporter": "python",
   "pygments_lexer": "ipython3",
   "version": "3.7.3"
  }
 },
 "nbformat": 4,
 "nbformat_minor": 2
}
